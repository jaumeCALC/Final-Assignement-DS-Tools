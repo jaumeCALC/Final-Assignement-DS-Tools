{
 "cells": [
  {
   "cell_type": "markdown",
   "id": "70df4b80-2dad-4b0b-ae79-4648e0861ab9",
   "metadata": {},
   "source": [
    "# Data Science Tools and Ecosystem"
   ]
  },
  {
   "cell_type": "markdown",
   "id": "32238589-3975-4dc3-9fa0-880bf3ea8ef2",
   "metadata": {},
   "source": [
    "In this notebook, Data Science Tools and Ecosystem are summarized."
   ]
  },
  {
   "cell_type": "markdown",
   "id": "446ad25c-5858-45ee-b3a1-2db463cbd31d",
   "metadata": {},
   "source": [
    "**Objectives:**\n",
    "- List popular languages for Data Science\n",
    "- List libraries used in Data Science\n",
    "- Work with markdowns\n",
    "- Work with lists\n",
    "- Work with arithmetic expressions"
   ]
  },
  {
   "cell_type": "markdown",
   "id": "5b1aace0-8b5c-4ee9-b7e4-a0d93deeaef1",
   "metadata": {},
   "source": [
    "Some of the popular languages that Data Scientists use are:\n",
    "\n",
    "- Python\n",
    "- R\n",
    "- SQL"
   ]
  },
  {
   "cell_type": "markdown",
   "id": "d836616a-27da-4eac-b960-30aa0c818fe0",
   "metadata": {},
   "source": [
    "Some of the commonly used libraries used by Data Scientists include:\n",
    "\n",
    "- Pandas\n",
    "- TensorFlow\n",
    "- ggplot"
   ]
  },
  {
   "cell_type": "markdown",
   "id": "89041a8f-25ec-47c8-b22b-099c5ed646c4",
   "metadata": {},
   "source": [
    "Table of Data Science tools:\n",
    "\n",
    "|Data Science Tools|\n",
    "|------------------|\n",
    "|Jupyter Notebooks |\n",
    "|Anaconda          |\n",
    "|RStudio           |"
   ]
  },
  {
   "cell_type": "markdown",
   "id": "20268102-fc3d-4b10-9a69-7b77a05563ad",
   "metadata": {},
   "source": [
    "### Below are a few examples of evaluating arithmetic expressions in Python:"
   ]
  },
  {
   "cell_type": "markdown",
   "id": "65d239df-c53d-4c7c-80dd-666673b3304e",
   "metadata": {},
   "source": [
    "- Addition: 2+3 results in 5\n",
    "- Substraction: 5-2 results in 3\n",
    "- Multiplication: 5*3 results in 15\n",
    "- Division: 14/7 results in 2"
   ]
  },
  {
   "cell_type": "markdown",
   "id": "89de3e1a-c05b-4964-94c1-a76b87c14385",
   "metadata": {},
   "source": [
    "This a simple arithmetic expression to mutiply then add integers."
   ]
  },
  {
   "cell_type": "code",
   "execution_count": 5,
   "id": "41497f1e-44c0-4d87-95f6-0aa3162082f4",
   "metadata": {},
   "outputs": [
    {
     "data": {
      "text/plain": [
       "17"
      ]
     },
     "execution_count": 5,
     "metadata": {},
     "output_type": "execute_result"
    }
   ],
   "source": [
    "(3*4)+5"
   ]
  },
  {
   "cell_type": "markdown",
   "id": "93e45932-d382-406a-bc2f-b5ad17a7252b",
   "metadata": {},
   "source": [
    "This will convert 200 minutes to hours by diving by 60."
   ]
  },
  {
   "cell_type": "code",
   "execution_count": 6,
   "id": "376fb7aa-abcc-4a60-b9f9-d847ae28cc0d",
   "metadata": {},
   "outputs": [
    {
     "data": {
      "text/plain": [
       "3.3333333333333335"
      ]
     },
     "execution_count": 6,
     "metadata": {},
     "output_type": "execute_result"
    }
   ],
   "source": [
    "200/60"
   ]
  },
  {
   "cell_type": "markdown",
   "id": "02c0ca37-b30c-4053-908c-90b3eef8de5b",
   "metadata": {},
   "source": [
    "Now I will convert the decimals into minutes to get the accurate time."
   ]
  },
  {
   "cell_type": "code",
   "execution_count": 9,
   "id": "d8eab1ab-278a-4478-a81c-24993f71520c",
   "metadata": {},
   "outputs": [
    {
     "data": {
      "text/plain": [
       "20.000000000000007"
      ]
     },
     "execution_count": 9,
     "metadata": {},
     "output_type": "execute_result"
    }
   ],
   "source": [
    "(200/60-3)*60"
   ]
  },
  {
   "cell_type": "markdown",
   "id": "7cc3df35-937d-4a8f-8f4c-75084c291b06",
   "metadata": {},
   "source": [
    "Therefore 200 minutes are equal to 2 hours and 20 minutes."
   ]
  },
  {
   "cell_type": "markdown",
   "id": "84780c33-83a8-49a5-8aa9-e6f80fe1d19a",
   "metadata": {},
   "source": [
    "## Author: ##\n",
    "Jaume Pujol Zamora"
   ]
  }
 ],
 "metadata": {
  "kernelspec": {
   "display_name": "Python 3 (ipykernel)",
   "language": "python",
   "name": "python3"
  },
  "language_info": {
   "codemirror_mode": {
    "name": "ipython",
    "version": 3
   },
   "file_extension": ".py",
   "mimetype": "text/x-python",
   "name": "python",
   "nbconvert_exporter": "python",
   "pygments_lexer": "ipython3",
   "version": "3.12.8"
  }
 },
 "nbformat": 4,
 "nbformat_minor": 5
}
